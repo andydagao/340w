{
  "cells": [
    {
      "cell_type": "markdown",
      "metadata": {
        "editable": true,
        "tags": [],
        "id": "HwZWYe5XuZk-"
      },
      "source": [
        "## Gaussian Elimination"
      ]
    },
    {
      "cell_type": "markdown",
      "metadata": {
        "id": "3qRdr9_KuZk_"
      },
      "source": [
        "In this section we develop Python code to solve linear systems in the most direct way, via **Gaussian Elimination** (or just **elimination**).\n",
        "\n",
        "**The main concept of elimination:**\n",
        "\n",
        "* transform the given system to an equivalent system (with same solution) that but that is *easier* to solve.\n",
        "\n",
        "The transformation comes in the form of a sequence of **row operations** that preserve the solution of the system while making the solution readily available. There are three row operations that are helpful:\n",
        "\n",
        "1. Exchange the position of two rows/equations.\n",
        "    * Notation: $R_i \\xleftrightarrow{} R_j$\n",
        "4. Multiply a row/equation by any nonzero number:\n",
        "    * Notation: $R_i \\to k R_i$\n",
        "6. Replace any row/equation with the sum of itself and a multiple of another row/equation.\n",
        "   * Notation: $R_i \\to R_i + k R_j$\n",
        "\n"
      ]
    },
    {
      "cell_type": "markdown",
      "metadata": {
        "id": "AZHkLaP8uZlA"
      },
      "source": [
        "<a id='GE1'></a>\n",
        "### Example:  Row operations and elimination\n",
        "\n",
        "Let's look at an example.\n",
        "\n",
        "$$\n",
        "\\begin{eqnarray*}\n",
        "x + 2 y - z & = & 3\\\\\n",
        "2x + y - 2z & = & 3\\\\\n",
        "-3x + y + z & = & -6\n",
        "\\end{eqnarray*}\n",
        "$$\n",
        "\n",
        "Written in augmented form:\n",
        "\n",
        "$$\n",
        "\\begin{equation}\n",
        "\\left[ \\begin{array}{rrr|r}\n",
        "1 & 2 & -1 & 3 \\\\\n",
        "2 & 1 & -2 & 3 \\\\\n",
        "-3 & 1 & 1 & -6\n",
        "\\end{array}\\right]\n",
        "\\end{equation}\n",
        "$$\n",
        "\n",
        "Row operations to transform to an equivalent (upper triangular matrix) are\n",
        "\n",
        "1. $R_2 \\to R_2 - 2 R_1$\n",
        "2. $R_3 \\to R_3 + 3 R_1$\n",
        "3. $R_3 \\to R_3 + \\dfrac{7}{3} R_2$\n",
        "\n",
        "and results in the follwoing equivalent system\n",
        "\n",
        "$$\n",
        "\\begin{equation}\n",
        "\\left[ \\begin{array}{rrr|r}\n",
        "1 & 2 & -1 & 3 \\\\\n",
        "0 & -3 & 0 & -3 \\\\\n",
        "0 & 0 & -2 & -4\n",
        "\\end{array}\\right]\n",
        "\\end{equation}\n",
        "$$\n",
        "\n",
        "At this point, back-substitution can be used to arrive at the solution. Rather than do this now, let's build a python routine to execute the elimination process, illustrated above, to a more general $n\\times n$ system.  \n",
        "\n",
        "We'll assign the array the name $A$, so that we can refer to it later."
      ]
    },
    {
      "cell_type": "code",
      "execution_count": 11,
      "metadata": {
        "jupyter": {
          "source_hidden": true
        },
        "colab": {
          "base_uri": "https://localhost:8080/"
        },
        "id": "2o1PMNKauZlA",
        "outputId": "92cc48b5-fe67-4e09-9a6f-9aff80664dca"
      },
      "outputs": [
        {
          "output_type": "stream",
          "name": "stdout",
          "text": [
            "[[ 1  2 -1  3]\n",
            " [ 2  1 -2  3]\n",
            " [-3  1  1 -6]]\n"
          ]
        }
      ],
      "source": [
        "import sys\n",
        "import numpy as np\n",
        "# Define the augmented matrix in the above example.\n",
        "# We'll use this as a test case for working with nxn systems.\n",
        "A = np.array([[1,2,-1,3],[2,1,-2,3],[-3,1,1,-6]])\n",
        "print(A)"
      ]
    },
    {
      "cell_type": "markdown",
      "metadata": {
        "id": "CiT2e-JfuZlB"
      },
      "source": [
        "We could start performing operations on our array, but instead we will first write a few bits of code that will do each of these operations in a systematic manner.\n"
      ]
    },
    {
      "cell_type": "markdown",
      "metadata": {
        "id": "P25DhWO4uZlB"
      },
      "source": [
        "The goal of elimination is to perform row operations to produce a an equivalent upper-triangular matrix:\n",
        "\n",
        "$$\n",
        "\\begin{equation}\n",
        "\\left[ \\begin{array}{cccc} 1 & * & * & * \\\\ 0 & 1 & * & * \\\\ 0 & 0 & 1 & * \\end{array}\\right]\n",
        "\\end{equation}\n",
        "$$\n",
        "\n",
        "where the asterisk denote some entry (may or may not be zero). Let's now generalize this to an $n\\times n$ system:  "
      ]
    },
    {
      "cell_type": "code",
      "execution_count": 19,
      "metadata": {
        "id": "tIyQV6HxuZlB"
      },
      "outputs": [],
      "source": [
        "def elimin(A,b):\n",
        "# =============================================================================\n",
        "#     A is an nxn matrix .\n",
        "#     b is the right-hand-side of Ax = b.\n",
        "#     indicies counting from 1. Note python uses zero-based indexing\n",
        "# =============================================================================\n",
        "    m = A.shape[0]  # m is number of rows in A\n",
        "    n = A.shape[1]  # n is number of columns in A\n",
        "\n",
        "    if m != n:\n",
        "        print(\"error! aatrix A must be a square matrix (n x n)\")\n",
        "        return None, None\n",
        "\n",
        "    x = np.zeros(n)\n",
        "\n",
        "    B = np.copy(A).astype('float64')\n",
        "    r = np.copy(b).astype('float64')\n",
        "    eps = sys.float_info.epsilon\n",
        "\n",
        "    # visit each column, up to j = n-1\n",
        "    for j in range(n-1):\n",
        "        if abs(B[j][j]) < eps:\n",
        "            print(\"error: 0 pivot encountered\")\n",
        "            return None, None\n",
        "\n",
        "      # Iterate through each row below the pivot row\n",
        "        for i in range(j + 1, n):\n",
        "            scale = B[i][j] / B[j][j]\n",
        "            for k in range(j, n):\n",
        "                B[i][k] = B[i][k] - scale * B[j][k]\n",
        "\n",
        "            r[i] = r[i] - scale * r[j]\n",
        "\n",
        "    # === Back-Substitution ===\n",
        "    for i in range(n - 1, -1, -1):\n",
        "        dot_sum = 0\n",
        "        for k in range(i + 1, n):\n",
        "            dot_sum += B[i][k] * x[k]\n",
        "\n",
        "        if abs(B[i][i]) < eps:\n",
        "            print(\"error: division by 0 during back subs\")\n",
        "            return None, None\n",
        "\n",
        "        x[i] = (r[i] - dot_sum) / B[i][i]\n",
        "\n",
        "    return B, x\n"
      ]
    },
    {
      "cell_type": "code",
      "execution_count": 13,
      "metadata": {
        "colab": {
          "base_uri": "https://localhost:8080/"
        },
        "id": "sDf0nAFBuZlB",
        "outputId": "ffcaae28-3a9b-4d50-9e98-2841601fe0f7"
      },
      "outputs": [
        {
          "output_type": "execute_result",
          "data": {
            "text/plain": [
              "(array([[ 1.,  2., -1.],\n",
              "        [ 0., -3.,  0.],\n",
              "        [ 0.,  0., -2.]]),\n",
              " array([3., 1., 2.]))"
            ]
          },
          "metadata": {},
          "execution_count": 13
        }
      ],
      "source": [
        "elimin(A[0:3,0:3],A[0:3,3])"
      ]
    },
    {
      "cell_type": "code",
      "execution_count": null,
      "metadata": {
        "id": "2nGf8KmouZlC"
      },
      "outputs": [],
      "source": []
    },
    {
      "cell_type": "markdown",
      "source": [
        "# ai\n"
      ],
      "metadata": {
        "id": "lwZ7u4OGzVz0"
      }
    },
    {
      "cell_type": "code",
      "source": [
        "A_a1 = np.array([[2, -3],\n",
        "                 [5, -6]])\n",
        "b_a1 = np.array([2, 8])\n",
        "\n",
        "U_a1, x_a1 = elimin(A_a1, b_a1)\n",
        "\n",
        "print(\"Sol for a(i):\")\n",
        "print(x_a1)"
      ],
      "metadata": {
        "id": "g081p0FbzUu3",
        "outputId": "83cb0c59-9321-4a13-b336-69faa2caa5b7",
        "colab": {
          "base_uri": "https://localhost:8080/"
        }
      },
      "execution_count": 14,
      "outputs": [
        {
          "output_type": "stream",
          "name": "stdout",
          "text": [
            "Sol for a(i):\n",
            "[4. 2.]\n"
          ]
        }
      ]
    },
    {
      "cell_type": "markdown",
      "source": [
        "aii"
      ],
      "metadata": {
        "id": "qDlH8YQEzqMN"
      }
    },
    {
      "cell_type": "code",
      "source": [
        "A_a2 = np.array([[1, 2, -1],\n",
        "                 [0, 3, 1],\n",
        "                 [2, -1, 1]])\n",
        "b_a2 = np.array([2, 4, 2])\n",
        "\n",
        "U_a2, x_a2 = elimin(A_a2, b_a2)\n",
        "\n",
        "print(\"Sol for a(ii):\")\n",
        "print(x_a2)"
      ],
      "metadata": {
        "id": "RafbW0cJzrM0",
        "outputId": "f5924d64-f19c-4685-8722-89fd3dc0c3ee",
        "colab": {
          "base_uri": "https://localhost:8080/"
        }
      },
      "execution_count": 15,
      "outputs": [
        {
          "output_type": "stream",
          "name": "stdout",
          "text": [
            "Sol for a(ii):\n",
            "[1. 1. 1.]\n"
          ]
        }
      ]
    },
    {
      "cell_type": "markdown",
      "source": [
        "b"
      ],
      "metadata": {
        "id": "o2SLOpFdzxQU"
      }
    },
    {
      "cell_type": "code",
      "source": [
        "A_b = np.array([[1, -1, 2, 0],\n",
        "                [0, 2, 1, 0],\n",
        "                [1, 3, 4, 4],\n",
        "                [4, 2, 1, -1]])\n",
        "b_b = np.array([1, 2, 3, 4])\n",
        "\n",
        "U_b, x_b = elimin(A_b, b_b)\n",
        "\n",
        "print(\"Sol for b:\")\n",
        "print(x_b)"
      ],
      "metadata": {
        "id": "V2nSr0RszyXB",
        "outputId": "46a6c5a9-11b5-43be-d507-4f405e4fda2d",
        "colab": {
          "base_uri": "https://localhost:8080/"
        }
      },
      "execution_count": 20,
      "outputs": [
        {
          "output_type": "stream",
          "name": "stdout",
          "text": [
            "error: 0 pivot encountered\n",
            "Sol for b:\n",
            "None\n"
          ]
        }
      ]
    },
    {
      "cell_type": "markdown",
      "source": [
        "5)"
      ],
      "metadata": {
        "id": "EZR7jnb7GP6t"
      }
    },
    {
      "cell_type": "code",
      "source": [
        "def lu_decomposition(A):\n",
        "    m, n = A.shape\n",
        "\n",
        "    # 1. Validation: Ensure the matrix is square.\n",
        "    if m != n:\n",
        "        print(\"error: matrix must be square for LU decomposition\")\n",
        "        return None, None\n",
        "\n",
        "    # 2. Initialization\n",
        "    U = np.copy(A).astype('float64')\n",
        "    L = np.identity(n).astype('float64')\n",
        "    eps = sys.float_info.epsilon\n",
        "\n",
        "    for j in range(n - 1):\n",
        "        if abs(U[j, j]) < eps:\n",
        "            print(f\"error: 0 pivot encountered at position ({j},{j})\")\n",
        "            return None, None\n",
        "\n",
        "        for i in range(j + 1, n):\n",
        "            scale = U[i, j] / U[j, j]\n",
        "            L[i, j] = scale\n",
        "            U[i, :] = U[i, :] - scale * U[j, :]\n",
        "\n",
        "    return L, U"
      ],
      "metadata": {
        "id": "ICHbtWYQGa6T"
      },
      "execution_count": 21,
      "outputs": []
    },
    {
      "cell_type": "code",
      "source": [],
      "metadata": {
        "id": "2OO2eKgeGRU3"
      },
      "execution_count": null,
      "outputs": []
    }
  ],
  "metadata": {
    "kernelspec": {
      "display_name": "Python 3 (ipykernel)",
      "language": "python",
      "name": "python3"
    },
    "language_info": {
      "codemirror_mode": {
        "name": "ipython",
        "version": 3
      },
      "file_extension": ".py",
      "mimetype": "text/x-python",
      "name": "python",
      "nbconvert_exporter": "python",
      "pygments_lexer": "ipython3",
      "version": "3.13.3"
    },
    "colab": {
      "provenance": []
    }
  },
  "nbformat": 4,
  "nbformat_minor": 0
}